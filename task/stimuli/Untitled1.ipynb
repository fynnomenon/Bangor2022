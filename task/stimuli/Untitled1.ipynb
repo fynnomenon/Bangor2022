{
 "cells": [
  {
   "cell_type": "code",
   "execution_count": 1,
   "id": "708d6d0e-7153-4c47-afaf-e9e12bf2cfa5",
   "metadata": {},
   "outputs": [],
   "source": [
    "import constraint\n",
    "import random\n",
    "import shutil\n",
    "import pandas as pd\n",
    "from os import mkdir"
   ]
  },
  {
   "cell_type": "code",
   "execution_count": 2,
   "id": "2446cfec-5339-4a09-9946-0d5ffaa20aaf",
   "metadata": {},
   "outputs": [],
   "source": [
    "problem = constraint.Problem()\n",
    "\n",
    "for i in range(1,7):\n",
    "    problem.addVariable(str(i),range(1,7))\n",
    "\n",
    "def run_pairing(run_1, run_2):\n",
    "    if abs(run_1-run_2) == 3:\n",
    "        return True\n",
    "\n",
    "problem.addConstraint(run_pairing,'14')\n",
    "problem.addConstraint(run_pairing,'25')\n",
    "problem.addConstraint(run_pairing,'36')\n",
    "problem.addConstraint(constraint.AllDifferentConstraint())\n",
    "\n",
    "solutions = problem.getSolutions()"
   ]
  },
  {
   "cell_type": "code",
   "execution_count": 3,
   "id": "b855c3ec-ffdf-4913-9b0f-4937d7ba865b",
   "metadata": {},
   "outputs": [],
   "source": [
    "col_names = ['Run1','Run2','Run3','Run4','Run5','Run6']\n",
    "df_runs = pd.DataFrame(columns=col_names)\n",
    "for solution in solutions:\n",
    "    for key, value in solution.items():\n",
    "        solution[key] = f'Run-{value:03d}.xlsx'\n",
    "    df_runs.loc[len(df_runs)] = dict(sorted(solution.items())).values()\n",
    "    \n",
    "df_runs = df_runs.sort_values(by=col_names).reset_index(drop=True)\n",
    "\n",
    "indices = []\n",
    "chunks = list(range(0,8))\n",
    "\n",
    "random.seed(61)\n",
    "random.shuffle(chunks)\n",
    "\n",
    "for i in chunks:\n",
    "    for ind in [i,i+16,i+32,i+8,i+24,i+40]:\n",
    "        indices.append(ind)\n",
    "\n",
    "df_runs = df_runs.reindex(indices).reset_index(drop=True)\n",
    "df_runs.to_excel(f'ExperimentOrder.xlsx')"
   ]
  },
  {
   "cell_type": "code",
   "execution_count": 4,
   "id": "dc271f0c-eda1-474d-a4f8-82f6bab67318",
   "metadata": {},
   "outputs": [],
   "source": [
    "all_files = []\n",
    "for num_of_run in range(1,7):\n",
    "    file_paths = pd.read_excel(f'Run-{num_of_run:03d}.xlsx', usecols='F').dropna().values.tolist()\n",
    "    for file_path in file_paths:\n",
    "        all_files.append(file_path)"
   ]
  },
  {
   "cell_type": "code",
   "execution_count": 5,
   "id": "79e30719-1651-4e59-bef9-5b8845f8d00b",
   "metadata": {},
   "outputs": [],
   "source": [
    "all_unique_files = {file_path for sublist in all_files for file_path in sublist}\n",
    "\n",
    "mkdir('NecessaryStimuli')\n",
    "for file in all_unique_files:\n",
    "    shutil.copy(file, 'NecessaryStimuli')"
   ]
  },
  {
   "cell_type": "code",
   "execution_count": null,
   "id": "783622c1-26ae-4937-bd2c-04977d40a12a",
   "metadata": {},
   "outputs": [],
   "source": []
  }
 ],
 "metadata": {
  "kernelspec": {
   "display_name": "Python [conda env:dl4nlp]",
   "language": "python",
   "name": "conda-env-dl4nlp-py"
  },
  "language_info": {
   "codemirror_mode": {
    "name": "ipython",
    "version": 3
   },
   "file_extension": ".py",
   "mimetype": "text/x-python",
   "name": "python",
   "nbconvert_exporter": "python",
   "pygments_lexer": "ipython3",
   "version": "3.9.7"
  }
 },
 "nbformat": 4,
 "nbformat_minor": 5
}
