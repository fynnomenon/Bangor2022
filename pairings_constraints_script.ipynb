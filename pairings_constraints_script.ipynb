{
 "cells": [
  {
   "cell_type": "code",
   "execution_count": 1,
   "id": "34cab59b-5d1c-4952-9b9a-6832956dd00c",
   "metadata": {},
   "outputs": [],
   "source": [
    "from constraint import *"
   ]
  },
  {
   "cell_type": "code",
   "execution_count": 2,
   "id": "56cc8969-9f63-4f86-8234-69d09d189641",
   "metadata": {},
   "outputs": [],
   "source": [
    "old_congruent_pairs = {'gg01': ['gg18'],#['gg09','gg15'],\n",
    "                   'gg02': ['gg04','gg06','gg19'],#['gg04','gg06','gg17','gg19'],\n",
    "                   'gg03': ['gg07','gg10', 'gg11'],#['gg07','gg09','gg10','gg15','gg19','gg20'],\n",
    "                   'gg04': ['gg02','gg06','gg15','gg18'],#['gg02','gg06','gg09','gg15','gg18','gg19','gg20'],\n",
    "                   'gg06': ['gg02','gg04','gg08','gg13','gg17','gg19','gg20'],#['gg02','gg04','gg08','gg10','gg13','gg17','gg20'],\n",
    "                   'gg07': ['gg03','gg10','gg19'],#['gg03','gg10','gg19'],\n",
    "                   'gg08': ['gg06','gg17','gg19','gg20'],#['gg06','gg17','gg19','gg20'],\n",
    "                   'gg09': ['gg15','gg19','gg20'],#['gg01','gg03','gg04','gg15','gg19','gg20'],\n",
    "                   'gg10': ['gg03','gg07','gg18','gg19'],#['gg03','gg06','gg07','gg17','gg18','gg19'],\n",
    "                   'gg11': ['gg03','gg10','gg18'],#['gg18','gg19','gg20'],\n",
    "                   'gg13': ['gg06','gg17','gg19'],#['gg06','gg17','gg19'],\n",
    "                   'gg15': ['gg04','gg09'],#['gg01','gg03','gg04','gg09','gg19'],\n",
    "                   'gg17': ['gg06','gg08','gg13','gg19'],#['gg02','gg06','gg08','gg10','gg13','gg19','gg20'],\n",
    "                   'gg18': ['gg01','gg04','gg10','gg11','gg20'],#['gg04','gg10','gg11','gg20'],\n",
    "                   'gg19': ['gg02','gg06','gg07','gg08','gg09','gg10','gg13','gg17'],#['gg02','gg03','gg04','gg07','gg08','gg09','gg10','gg11','gg13','gg15','gg17','gg20'],\n",
    "                   'gg20': ['gg06','gg08','gg09','gg18']}#['gg03','gg04','gg06','gg08','gg09','gg11','gg17','gg18','gg19']}"
   ]
  },
  {
   "cell_type": "code",
   "execution_count": 3,
   "id": "de1d1664-3481-44f7-9113-18f59a3e267a",
   "metadata": {},
   "outputs": [],
   "source": [
    "congruent_pairs = {'gg01': ['gg18'],\n",
    "                   'gg02': ['gg06','gg19'],\n",
    "                   'gg03': ['gg07','gg10'],\n",
    "                   'gg04': ['gg11','gg15','gg18'],\n",
    "                   'gg06': ['gg02','gg08','gg13','gg17','gg19','gg20'],\n",
    "                   'gg07': ['gg03','gg10'],\n",
    "                   'gg08': ['gg06','gg17','gg19','gg20'],\n",
    "                   'gg09': ['gg15','gg19'],\n",
    "                   'gg10': ['gg03','gg07','gg11','gg18'],\n",
    "                   'gg11': ['gg04','gg10','gg18'],\n",
    "                   'gg13': ['gg06','gg17','gg19'],\n",
    "                   'gg15': ['gg04','gg09','gg19'],\n",
    "                   'gg17': ['gg06','gg08','gg13','gg19'],\n",
    "                   'gg18': ['gg01','gg04','gg10','gg11','gg20'],\n",
    "                   'gg19': ['gg02','gg06','gg08','gg09','gg13','gg17'],\n",
    "                   'gg20': ['gg06','gg08','gg18']}"
   ]
  },
  {
   "cell_type": "code",
   "execution_count": 4,
   "id": "ad6d91ed-1cea-458e-973f-e821c9673be8",
   "metadata": {},
   "outputs": [],
   "source": [
    "problem = Problem()\n",
    "\n",
    "for key, value in congruent_pairs.items():\n",
    "    problem.addVariable(key, value)\n",
    "\n",
    "problem.addConstraint(AllDifferentConstraint())  \n",
    "\n",
    "solutions = problem.getSolutions()"
   ]
  },
  {
   "cell_type": "code",
   "execution_count": 5,
   "id": "f660e5a2-2898-4f8e-9fbe-b634cf0d971d",
   "metadata": {},
   "outputs": [],
   "source": [
    "ind_list = []\n",
    "for cnt, solution in enumerate(solutions):\n",
    "    inv_solution = {val: k for k, val in solution.items()}\n",
    "    for k, val in solution.items():\n",
    "        if inv_solution[k] != val:\n",
    "            ind_list.append(cnt)\n",
    "            \n",
    "for i in sorted(set(ind_list),reverse=True):\n",
    "    del solutions[i]\n",
    "    \n",
    "possible_pairings = []\n",
    "for solution in solutions:\n",
    "    sorted_solution = dict(sorted(solution.items()))\n",
    "    sorted_solution_list = []\n",
    "    for k, val in sorted_solution.items():\n",
    "        sorted_tuple = tuple(sorted((k,val)))\n",
    "        sorted_solution_list.append(sorted_tuple)\n",
    "    possible_pairings.append(list(set(sorted_solution_list)))"
   ]
  },
  {
   "cell_type": "code",
   "execution_count": 6,
   "id": "c96e9739-81a0-4737-ad5c-6168188ab27f",
   "metadata": {},
   "outputs": [
    {
     "name": "stdout",
     "output_type": "stream",
     "text": [
      "[[('gg09', 'gg19'), ('gg01', 'gg18'), ('gg10', 'gg11'), ('gg13', 'gg17'), ('gg08', 'gg20'), ('gg04', 'gg15'), ('gg02', 'gg06'), ('gg03', 'gg07')]]\n"
     ]
    }
   ],
   "source": [
    "print(possible_pairings)"
   ]
  },
  {
   "cell_type": "code",
   "execution_count": null,
   "id": "99d0ce81-06ea-44c8-81c9-46bb907b0610",
   "metadata": {},
   "outputs": [],
   "source": []
  }
 ],
 "metadata": {
  "kernelspec": {
   "display_name": "Python [conda env:dl4nlp]",
   "language": "python",
   "name": "conda-env-dl4nlp-py"
  },
  "language_info": {
   "codemirror_mode": {
    "name": "ipython",
    "version": 3
   },
   "file_extension": ".py",
   "mimetype": "text/x-python",
   "name": "python",
   "nbconvert_exporter": "python",
   "pygments_lexer": "ipython3",
   "version": "3.9.7"
  }
 },
 "nbformat": 4,
 "nbformat_minor": 5
}
