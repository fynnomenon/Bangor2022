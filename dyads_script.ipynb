{
 "cells": [
  {
   "cell_type": "code",
   "execution_count": 1,
   "id": "cfcd2acf-3177-4437-b7d8-6ad0448e537d",
   "metadata": {},
   "outputs": [],
   "source": [
    "import moviepy.editor as mpy\n",
    "import numpy as np\n",
    "import cv2\n",
    "import re"
   ]
  },
  {
   "cell_type": "code",
   "execution_count": 2,
   "id": "b94c7512-859e-4099-b53d-0c248e64c2d8",
   "metadata": {},
   "outputs": [],
   "source": [
    "def remove_outliers(src):\n",
    "    num_labels,labels,stats,centroids = cv2.connectedComponentsWithStats(src,connectivity=4,ltype=None)\n",
    "    img = np.zeros((src.shape[0],src.shape[1]),np.uint8) # create a black background of all 0\n",
    "    for i in range(1,num_labels):\n",
    "        mask = labels == i # this step is to determine the location of the area through labels, assign labels information to the mask array, and then use the mask array as the index of img array\n",
    "        if stats[i][4] > 100: \n",
    "            img[mask] = 255 # areas larger than 100 shall be painted white, and areas smaller than 100 shall be painted black\n",
    "        else:\n",
    "            img[mask] = 0\n",
    "    return img"
   ]
  },
  {
   "cell_type": "code",
   "execution_count": 3,
   "id": "c6eddaf3-32e0-4384-a1ab-0cf5c406ccfb",
   "metadata": {},
   "outputs": [],
   "source": [
    "def get_contours(frm):\n",
    "    # convert frame to grayscale\n",
    "    frm_gray = cv2.cvtColor(frm, cv2.COLOR_BGR2GRAY)\n",
    "    # remove tiny particels\n",
    "    frm_out = remove_outliers(frm_gray)\n",
    "    # convert frame to black and white\n",
    "    frm_thresh = cv2.threshold(frm_out,0,255,cv2.THRESH_BINARY)[1]\n",
    "    # extract contours\n",
    "    contours,_ = cv2.findContours(frm_thresh,cv2.RETR_EXTERNAL,cv2.CHAIN_APPROX_SIMPLE)\n",
    "    \n",
    "    return contours"
   ]
  },
  {
   "cell_type": "code",
   "execution_count": 4,
   "id": "5a12d99c-4250-4d80-a2a6-aea5de235a14",
   "metadata": {},
   "outputs": [],
   "source": [
    "def get_center(clip):\n",
    "    # get first frame\n",
    "    frm = clip.get_frame(t=0)\n",
    "    # get the bounding box of the frame\n",
    "    contours = get_contours(frm)\n",
    "    # calculate the center of the first bounding box as the center of gravity of the human body\n",
    "    for cnt in contours:\n",
    "        x,y,w,h = cv2.boundingRect(cnt)\n",
    "        if w > 100 and h > 100:\n",
    "            center = (round((2*x+w)/2),round((2*y+h)/2))\n",
    "    \n",
    "    return center"
   ]
  },
  {
   "cell_type": "code",
   "execution_count": 5,
   "id": "5231db6c-0e8b-4a41-a77e-61226474715c",
   "metadata": {},
   "outputs": [],
   "source": [
    "def crop_and_resize(clip): \n",
    "    clip_x, clip_y = clip.size\n",
    "    bbox = [clip_x,0,clip_y,0]\n",
    "    average_h = 740\n",
    "    \n",
    "    # iterate through frames of the video clip\n",
    "    for frm in clip.iter_frames():\n",
    "        contours = get_contours(frm)\n",
    "        \n",
    "        # iterate over contours\n",
    "        for cnt in contours:\n",
    "            x,y,w,h = cv2.boundingRect(cnt)\n",
    "            # save rectangle that contains all boundingboxes inside it\n",
    "            if x < bbox[0]:\n",
    "                bbox[0] = x \n",
    "            if x+w > bbox[1]:\n",
    "                bbox[1] = x+w \n",
    "            if y < bbox[2]:\n",
    "                bbox[2] = y \n",
    "            if y+h > bbox[3]:\n",
    "                bbox[3] = y+h \n",
    "    \n",
    "    # crop and resize the clip\n",
    "    cropped_clip = clip.fx(mpy.vfx.crop, x1=bbox[0],x2=bbox[1],y1=bbox[2],y2=bbox[3])\n",
    "    resized_clip = cropped_clip.resize(height=average_h)\n",
    "    \n",
    "    #calculate the center of gravity of the human body in the resized clip\n",
    "    center = get_center(resized_clip)\n",
    "    \n",
    "    return resized_clip, center"
   ]
  },
  {
   "cell_type": "code",
   "execution_count": 6,
   "id": "cecdd78e-a822-4b16-8839-a3ef3fb54715",
   "metadata": {},
   "outputs": [],
   "source": [
    "def change_dur(clip, duration):\n",
    "    rate = clip.fps\n",
    "    dur = clip.duration\n",
    "    \n",
    "    desired_rate = (rate*dur)/duration\n",
    "    scaling_factor = desired_rate/rate\n",
    "\n",
    "    # Modify the FPS\n",
    "    clip = clip.set_fps(clip.fps*scaling_factor)\n",
    "    # Apply speed up\n",
    "    clip = clip.fx(mpy.vfx.speedx,scaling_factor)\n",
    "    \n",
    "    return clip"
   ]
  },
  {
   "cell_type": "code",
   "execution_count": 7,
   "id": "b8ec9e67-fe17-47ca-b0bc-3da88ed57d35",
   "metadata": {},
   "outputs": [],
   "source": [
    "# Define which video files to load\n",
    "baseline_f1 = 'IS_gg00f.mov'\n",
    "baseline_f2 = 'gesture01_Female02_00000106.mov'\n",
    "baseline_p = 'IS_gg00p.mov'\n",
    "baseline_n = 'IS_gg00n.mov'\n",
    "bow_f1 = 'gesture02_Female01_00000435.mov'\n",
    "bow_f2 = 'gesture02_Female02_00000372.mov'\n",
    "bow_p = 'gesture16_Pepper00000016.mov'\n",
    "bow_n = 'gesture10_NAO00003079.mov'\n",
    "\n",
    "# Define the positioning\n",
    "gestures_left = [bow_f1, baseline_f1, bow_p, baseline_p]\n",
    "gestures_right = [bow_f2, baseline_f2, bow_n, baseline_n]\n",
    "\n",
    "# Calculate combinations\n",
    "combis = [(left,right) for right in gestures_right for left in gestures_left]"
   ]
  },
  {
   "cell_type": "code",
   "execution_count": 8,
   "id": "a4e59fec-ac0f-4577-842f-300437472e75",
   "metadata": {},
   "outputs": [
    {
     "name": "stdout",
     "output_type": "stream",
     "text": [
      "Moviepy - Building video movie0.mp4.\n",
      "MoviePy - Writing audio in movie0TEMP_MPY_wvf_snd.mp3\n"
     ]
    },
    {
     "name": "stderr",
     "output_type": "stream",
     "text": [
      "                                                       \r"
     ]
    },
    {
     "name": "stdout",
     "output_type": "stream",
     "text": [
      "MoviePy - Done.\n",
      "Moviepy - Writing video movie0.mp4\n",
      "\n"
     ]
    },
    {
     "name": "stderr",
     "output_type": "stream",
     "text": [
      "                                                            \r"
     ]
    },
    {
     "name": "stdout",
     "output_type": "stream",
     "text": [
      "Moviepy - Done !\n",
      "Moviepy - video ready movie0.mp4\n",
      "Moviepy - Building video movie1.mp4.\n",
      "MoviePy - Writing audio in movie1TEMP_MPY_wvf_snd.mp3\n"
     ]
    },
    {
     "name": "stderr",
     "output_type": "stream",
     "text": [
      "                                                       \r"
     ]
    },
    {
     "name": "stdout",
     "output_type": "stream",
     "text": [
      "MoviePy - Done.\n",
      "Moviepy - Writing video movie1.mp4\n",
      "\n"
     ]
    },
    {
     "name": "stderr",
     "output_type": "stream",
     "text": [
      "                                                            \r"
     ]
    },
    {
     "name": "stdout",
     "output_type": "stream",
     "text": [
      "Moviepy - Done !\n",
      "Moviepy - video ready movie1.mp4\n",
      "Moviepy - Building video movie2.mp4.\n",
      "MoviePy - Writing audio in movie2TEMP_MPY_wvf_snd.mp3\n"
     ]
    },
    {
     "name": "stderr",
     "output_type": "stream",
     "text": [
      "                                                       \r"
     ]
    },
    {
     "name": "stdout",
     "output_type": "stream",
     "text": [
      "MoviePy - Done.\n",
      "Moviepy - Writing video movie2.mp4\n",
      "\n"
     ]
    },
    {
     "name": "stderr",
     "output_type": "stream",
     "text": [
      "                                                            \r"
     ]
    },
    {
     "name": "stdout",
     "output_type": "stream",
     "text": [
      "Moviepy - Done !\n",
      "Moviepy - video ready movie2.mp4\n",
      "Moviepy - Building video movie3.mp4.\n",
      "MoviePy - Writing audio in movie3TEMP_MPY_wvf_snd.mp3\n"
     ]
    },
    {
     "name": "stderr",
     "output_type": "stream",
     "text": [
      "                                                       \r"
     ]
    },
    {
     "name": "stdout",
     "output_type": "stream",
     "text": [
      "MoviePy - Done.\n",
      "Moviepy - Writing video movie3.mp4\n",
      "\n"
     ]
    },
    {
     "name": "stderr",
     "output_type": "stream",
     "text": [
      "                                                            \r"
     ]
    },
    {
     "name": "stdout",
     "output_type": "stream",
     "text": [
      "Moviepy - Done !\n",
      "Moviepy - video ready movie3.mp4\n",
      "Moviepy - Building video movie4.mp4.\n",
      "MoviePy - Writing audio in movie4TEMP_MPY_wvf_snd.mp3\n"
     ]
    },
    {
     "name": "stderr",
     "output_type": "stream",
     "text": [
      "                                                       \r"
     ]
    },
    {
     "name": "stdout",
     "output_type": "stream",
     "text": [
      "MoviePy - Done.\n",
      "Moviepy - Writing video movie4.mp4\n",
      "\n"
     ]
    },
    {
     "name": "stderr",
     "output_type": "stream",
     "text": [
      "                                                            \r"
     ]
    },
    {
     "name": "stdout",
     "output_type": "stream",
     "text": [
      "Moviepy - Done !\n",
      "Moviepy - video ready movie4.mp4\n",
      "Moviepy - Building video movie5.mp4.\n",
      "MoviePy - Writing audio in movie5TEMP_MPY_wvf_snd.mp3\n"
     ]
    },
    {
     "name": "stderr",
     "output_type": "stream",
     "text": [
      "                                                       \r"
     ]
    },
    {
     "name": "stdout",
     "output_type": "stream",
     "text": [
      "MoviePy - Done.\n",
      "Moviepy - Writing video movie5.mp4\n",
      "\n"
     ]
    },
    {
     "name": "stderr",
     "output_type": "stream",
     "text": [
      "                                                            \r"
     ]
    },
    {
     "name": "stdout",
     "output_type": "stream",
     "text": [
      "Moviepy - Done !\n",
      "Moviepy - video ready movie5.mp4\n",
      "Moviepy - Building video movie6.mp4.\n",
      "MoviePy - Writing audio in movie6TEMP_MPY_wvf_snd.mp3\n"
     ]
    },
    {
     "name": "stderr",
     "output_type": "stream",
     "text": [
      "                                                       \r"
     ]
    },
    {
     "name": "stdout",
     "output_type": "stream",
     "text": [
      "MoviePy - Done.\n",
      "Moviepy - Writing video movie6.mp4\n",
      "\n"
     ]
    },
    {
     "name": "stderr",
     "output_type": "stream",
     "text": [
      "                                                            \r"
     ]
    },
    {
     "name": "stdout",
     "output_type": "stream",
     "text": [
      "Moviepy - Done !\n",
      "Moviepy - video ready movie6.mp4\n",
      "Moviepy - Building video movie7.mp4.\n",
      "MoviePy - Writing audio in movie7TEMP_MPY_wvf_snd.mp3\n"
     ]
    },
    {
     "name": "stderr",
     "output_type": "stream",
     "text": [
      "                                                       \r"
     ]
    },
    {
     "name": "stdout",
     "output_type": "stream",
     "text": [
      "MoviePy - Done.\n",
      "Moviepy - Writing video movie7.mp4\n",
      "\n"
     ]
    },
    {
     "name": "stderr",
     "output_type": "stream",
     "text": [
      "                                                            \r"
     ]
    },
    {
     "name": "stdout",
     "output_type": "stream",
     "text": [
      "Moviepy - Done !\n",
      "Moviepy - video ready movie7.mp4\n",
      "Moviepy - Building video movie8.mp4.\n",
      "MoviePy - Writing audio in movie8TEMP_MPY_wvf_snd.mp3\n"
     ]
    },
    {
     "name": "stderr",
     "output_type": "stream",
     "text": [
      "                                                       \r"
     ]
    },
    {
     "name": "stdout",
     "output_type": "stream",
     "text": [
      "MoviePy - Done.\n",
      "Moviepy - Writing video movie8.mp4\n",
      "\n"
     ]
    },
    {
     "name": "stderr",
     "output_type": "stream",
     "text": [
      "                                                            \r"
     ]
    },
    {
     "name": "stdout",
     "output_type": "stream",
     "text": [
      "Moviepy - Done !\n",
      "Moviepy - video ready movie8.mp4\n",
      "Moviepy - Building video movie9.mp4.\n",
      "MoviePy - Writing audio in movie9TEMP_MPY_wvf_snd.mp3\n"
     ]
    },
    {
     "name": "stderr",
     "output_type": "stream",
     "text": [
      "                                                       \r"
     ]
    },
    {
     "name": "stdout",
     "output_type": "stream",
     "text": [
      "MoviePy - Done.\n",
      "Moviepy - Writing video movie9.mp4\n",
      "\n"
     ]
    },
    {
     "name": "stderr",
     "output_type": "stream",
     "text": [
      "                                                            \r"
     ]
    },
    {
     "name": "stdout",
     "output_type": "stream",
     "text": [
      "Moviepy - Done !\n",
      "Moviepy - video ready movie9.mp4\n",
      "Moviepy - Building video movie10.mp4.\n",
      "MoviePy - Writing audio in movie10TEMP_MPY_wvf_snd.mp3\n"
     ]
    },
    {
     "name": "stderr",
     "output_type": "stream",
     "text": [
      "                                                       \r"
     ]
    },
    {
     "name": "stdout",
     "output_type": "stream",
     "text": [
      "MoviePy - Done.\n",
      "Moviepy - Writing video movie10.mp4\n",
      "\n"
     ]
    },
    {
     "name": "stderr",
     "output_type": "stream",
     "text": [
      "                                                            \r"
     ]
    },
    {
     "name": "stdout",
     "output_type": "stream",
     "text": [
      "Moviepy - Done !\n",
      "Moviepy - video ready movie10.mp4\n",
      "Moviepy - Building video movie11.mp4.\n",
      "MoviePy - Writing audio in movie11TEMP_MPY_wvf_snd.mp3\n"
     ]
    },
    {
     "name": "stderr",
     "output_type": "stream",
     "text": [
      "                                                       \r"
     ]
    },
    {
     "name": "stdout",
     "output_type": "stream",
     "text": [
      "MoviePy - Done.\n",
      "Moviepy - Writing video movie11.mp4\n",
      "\n"
     ]
    },
    {
     "name": "stderr",
     "output_type": "stream",
     "text": [
      "                                                            \r"
     ]
    },
    {
     "name": "stdout",
     "output_type": "stream",
     "text": [
      "Moviepy - Done !\n",
      "Moviepy - video ready movie11.mp4\n",
      "Moviepy - Building video movie12.mp4.\n",
      "MoviePy - Writing audio in movie12TEMP_MPY_wvf_snd.mp3\n"
     ]
    },
    {
     "name": "stderr",
     "output_type": "stream",
     "text": [
      "                                                       \r"
     ]
    },
    {
     "name": "stdout",
     "output_type": "stream",
     "text": [
      "MoviePy - Done.\n",
      "Moviepy - Writing video movie12.mp4\n",
      "\n"
     ]
    },
    {
     "name": "stderr",
     "output_type": "stream",
     "text": [
      "                                                            \r"
     ]
    },
    {
     "name": "stdout",
     "output_type": "stream",
     "text": [
      "Moviepy - Done !\n",
      "Moviepy - video ready movie12.mp4\n",
      "Moviepy - Building video movie13.mp4.\n",
      "MoviePy - Writing audio in movie13TEMP_MPY_wvf_snd.mp3\n"
     ]
    },
    {
     "name": "stderr",
     "output_type": "stream",
     "text": [
      "                                                       \r"
     ]
    },
    {
     "name": "stdout",
     "output_type": "stream",
     "text": [
      "MoviePy - Done.\n",
      "Moviepy - Writing video movie13.mp4\n",
      "\n"
     ]
    },
    {
     "name": "stderr",
     "output_type": "stream",
     "text": [
      "                                                            \r"
     ]
    },
    {
     "name": "stdout",
     "output_type": "stream",
     "text": [
      "Moviepy - Done !\n",
      "Moviepy - video ready movie13.mp4\n",
      "Moviepy - Building video movie14.mp4.\n",
      "MoviePy - Writing audio in movie14TEMP_MPY_wvf_snd.mp3\n"
     ]
    },
    {
     "name": "stderr",
     "output_type": "stream",
     "text": [
      "                                                       \r"
     ]
    },
    {
     "name": "stdout",
     "output_type": "stream",
     "text": [
      "MoviePy - Done.\n",
      "Moviepy - Writing video movie14.mp4\n",
      "\n"
     ]
    },
    {
     "name": "stderr",
     "output_type": "stream",
     "text": [
      "                                                            \r"
     ]
    },
    {
     "name": "stdout",
     "output_type": "stream",
     "text": [
      "Moviepy - Done !\n",
      "Moviepy - video ready movie14.mp4\n",
      "Moviepy - Building video movie15.mp4.\n",
      "MoviePy - Writing audio in movie15TEMP_MPY_wvf_snd.mp3\n"
     ]
    },
    {
     "name": "stderr",
     "output_type": "stream",
     "text": [
      "                                                       \r"
     ]
    },
    {
     "name": "stdout",
     "output_type": "stream",
     "text": [
      "MoviePy - Done.\n",
      "Moviepy - Writing video movie15.mp4\n",
      "\n"
     ]
    },
    {
     "name": "stderr",
     "output_type": "stream",
     "text": [
      "                                                            "
     ]
    },
    {
     "name": "stdout",
     "output_type": "stream",
     "text": [
      "Moviepy - Done !\n",
      "Moviepy - video ready movie15.mp4\n"
     ]
    },
    {
     "name": "stderr",
     "output_type": "stream",
     "text": [
      "\r"
     ]
    }
   ],
   "source": [
    "for cnt, gestures in enumerate(combis):\n",
    "    # Load the video files of the individual stimuli to be combined into a dyad\n",
    "    if re.search(r'[NnPp]',gestures[0]):\n",
    "        gesture_left = mpy.VideoFileClip(gestures[0],has_mask=True).rotate(-90.00001)\n",
    "    else: \n",
    "        gesture_left = mpy.VideoFileClip(gestures[0],has_mask=True)\n",
    "    \n",
    "    if re.search(r'[NnPp]',gestures[1]):\n",
    "        gesture_right = mpy.VideoFileClip(gestures[1],has_mask=True).rotate(-90.00001).fx(mpy.vfx.mirror_x)\n",
    "    else: \n",
    "        gesture_right = mpy.VideoFileClip(gestures[1],has_mask=True).fx(mpy.vfx.mirror_x)\n",
    " \n",
    "    # Transform the individual stimuli files\n",
    "    gesture_right, center_right = crop_and_resize(gesture_right)\n",
    "    gesture_left, center_left = crop_and_resize(gesture_left)\n",
    "    \n",
    "    # Speed up or slow down video to 3sec\n",
    "    duration = 3\n",
    "    gesture_right = change_dur(gesture_right,duration)\n",
    "    gesture_left = change_dur(gesture_left,duration)\n",
    "    \n",
    "    # Load the background image\n",
    "    background = mpy.ImageClip('background_dyads.png',duration=duration)\n",
    "    \n",
    "    # Create the video composition\n",
    "    dyad = mpy.CompositeVideoClip([background, \n",
    "                                   gesture_left.set_position((660-center_left[0],170)), \n",
    "                                   gesture_right.set_position((1260-center_right[0],170))\n",
    "                                  ])\n",
    "    # Make the video grayscale\n",
    "    dyad = dyad.fx(mpy.vfx.blackwhite)\n",
    "    \n",
    "    # Write the output video file\n",
    "    dyad.write_videofile('movie' + str(cnt) + '.mp4', fps=25)"
   ]
  }
 ],
 "metadata": {
  "kernelspec": {
   "display_name": "Python [conda env:dl4nlp]",
   "language": "python",
   "name": "conda-env-dl4nlp-py"
  },
  "language_info": {
   "codemirror_mode": {
    "name": "ipython",
    "version": 3
   },
   "file_extension": ".py",
   "mimetype": "text/x-python",
   "name": "python",
   "nbconvert_exporter": "python",
   "pygments_lexer": "ipython3",
   "version": "3.9.7"
  }
 },
 "nbformat": 4,
 "nbformat_minor": 5
}
